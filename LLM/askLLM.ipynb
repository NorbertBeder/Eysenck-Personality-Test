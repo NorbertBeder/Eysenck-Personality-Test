{
 "cells": [
  {
   "cell_type": "code",
   "execution_count": 1,
   "metadata": {},
   "outputs": [
    {
     "data": {
      "text/plain": [
       "True"
      ]
     },
     "execution_count": 1,
     "metadata": {},
     "output_type": "execute_result"
    }
   ],
   "source": [
    "import os\n",
    "import time\n",
    "from openai import OpenAI\n",
    "from together import Together\n",
    "from dotenv import load_dotenv\n",
    "\n",
    "load_dotenv()"
   ]
  },
  {
   "cell_type": "code",
   "execution_count": 2,
   "metadata": {},
   "outputs": [],
   "source": [
    "client = OpenAI(api_key=os.getenv(\"API_KEY_CHATGPT\"))\n",
    "\n",
    "def askChatGPT(model, question, role=\"user\", temperature=0):\n",
    "    messages = [\n",
    "    {\n",
    "        \"role\" : role, \n",
    "        \"content\" : question\n",
    "    }]\n",
    "    \n",
    "    response = client.chat.completions.create(\n",
    "        model=model,\n",
    "        messages=messages,\n",
    "        temperature=temperature,\n",
    "        max_tokens=50\n",
    "    )\n",
    "    return response.choices[0].message.content"
   ]
  },
  {
   "cell_type": "code",
   "execution_count": 37,
   "metadata": {},
   "outputs": [],
   "source": [
    "together_key = os.getenv(\"API_KEY_TOGETHER\")\n",
    "client = Together(api_key=together_key)\n",
    "\n",
    "def askTogether(model, question, role=\"user\", temperature=0.5): \n",
    "    messages = [\n",
    "    {\n",
    "        \"role\" : role, \n",
    "        \"content\" : question\n",
    "    }]\n",
    "    \n",
    "    response = client.chat.completions.create(\n",
    "        model=model,\n",
    "        messages=messages,\n",
    "        temperature=temperature\n",
    "    )\n",
    "    return response.choices[0].message.content"
   ]
  },
  {
   "cell_type": "code",
   "execution_count": 14,
   "metadata": {},
   "outputs": [],
   "source": [
    "questions = []  \n",
    "with open('questions.txt', 'r') as file:\n",
    "    for line in file:\n",
    "        question = line.strip()\n",
    "        questions.append(question)\n",
    "        \n",
    "prompt = f\"\"\"Hello! I would like to ask some more personal questions from you as a part of a personality test.\n",
    "    Please answer the upcoming question with JUST a single word: YES or NO and do not answer anything else.\n",
    "    Question:\"\"\""
   ]
  },
  {
   "cell_type": "code",
   "execution_count": 15,
   "metadata": {},
   "outputs": [
    {
     "name": "stdout",
     "output_type": "stream",
     "text": [
      "Hello! I would like to ask some more personal questions from you as a part of a personality test.\n",
      "    Please answer the upcoming question with JUST a single word: YES or NO and do not answer anything else.\n",
      "    Question: I often dream about things that I later don't accomplish.\n"
     ]
    }
   ],
   "source": [
    "print(prompt + \" \" + questions[1])"
   ]
  },
  {
   "cell_type": "code",
   "execution_count": 32,
   "metadata": {},
   "outputs": [
    {
     "name": "stdout",
     "output_type": "stream",
     "text": [
      "No.\n"
     ]
    }
   ],
   "source": [
    "response = client.chat.completions.create(\n",
    "    model=\"Qwen/Qwen1.5-32B-Chat\",\n",
    "    messages=[{\"role\": \"user\", \"content\": prompt + \" \" + questions[14]}],\n",
    ")\n",
    "print(response.choices[0].message.content)"
   ]
  },
  {
   "cell_type": "markdown",
   "metadata": {},
   "source": [
    "CHATGPT\n"
   ]
  },
  {
   "cell_type": "code",
   "execution_count": 19,
   "metadata": {},
   "outputs": [],
   "source": [
    "# results = []\n",
    "# model = \"gpt-3.5-turbo\"\n",
    "\n",
    "# for question in questions:\n",
    "#     llm_prompt = prompt + \" \" + question\n",
    "#     results.append(askChatGPT(llm_prompt))\n",
    "#     time.sleep(1)\n",
    "\n",
    "# with open('answers/ChatGPT_answers.txt', 'w') as out_file:\n",
    "#     for i in range(1, len(results)):\n",
    "#         out_file.write(str(i) + results[i] + \"\\n\")"
   ]
  },
  {
   "cell_type": "markdown",
   "metadata": {},
   "source": [
    "TOGETHER AI"
   ]
  },
  {
   "cell_type": "code",
   "execution_count": 52,
   "metadata": {},
   "outputs": [],
   "source": [
    "results = []\n",
    "models = [\"meta-llama/Llama-2-70b-chat-hf\",\n",
    "          \"mistralai/Mistral-7B-Instruct-v0.1\",\n",
    "          \"garage-bAInd/Platypus2-70B-instruct\",\n",
    "          \"Qwen/Qwen1.5-32B-Chat\"]\n",
    "\n",
    "\n",
    "for question in questions:\n",
    "    llm_prompt = prompt + \" \" + question\n",
    "    results.append(askTogether(models[0], llm_prompt))\n",
    "    time.sleep(1)"
   ]
  },
  {
   "cell_type": "code",
   "execution_count": 51,
   "metadata": {},
   "outputs": [],
   "source": [
    "with open(\"answers/LLaMA_answers_2.txt\", 'w') as out_file:\n",
    "    for i in range(len(results)):\n",
    "        out_file.write(str(i+1) + \" \" + results[i] + \"\\n\")"
   ]
  },
  {
   "cell_type": "code",
   "execution_count": null,
   "metadata": {},
   "outputs": [],
   "source": [
    "# with open('LLaMA_answers_2.txt', 'w') as out_file:\n",
    "#     for i in range(1, len(results)):\n",
    "#         out_file.write(str(i) + results[i] + \"\\n\")"
   ]
  }
 ],
 "metadata": {
  "kernelspec": {
   "display_name": "venv",
   "language": "python",
   "name": "python3"
  },
  "language_info": {
   "codemirror_mode": {
    "name": "ipython",
    "version": 3
   },
   "file_extension": ".py",
   "mimetype": "text/x-python",
   "name": "python",
   "nbconvert_exporter": "python",
   "pygments_lexer": "ipython3",
   "version": "3.11.3"
  },
  "orig_nbformat": 4
 },
 "nbformat": 4,
 "nbformat_minor": 2
}

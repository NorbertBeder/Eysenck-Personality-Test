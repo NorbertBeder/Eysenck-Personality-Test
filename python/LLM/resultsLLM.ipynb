{
 "cells": [
  {
   "cell_type": "code",
   "execution_count": 37,
   "metadata": {},
   "outputs": [],
   "source": [
    "import os\n",
    "import pandas as pd"
   ]
  },
  {
   "cell_type": "code",
   "execution_count": 19,
   "metadata": {},
   "outputs": [],
   "source": [
    "def read_and_process_file(file_path):\n",
    "    ids = []\n",
    "    responses = []\n",
    "    \n",
    "    with open(file_path, 'r') as file:\n",
    "        for line in file:\n",
    "            \n",
    "            line = line.strip()\n",
    "            \n",
    "            id, response = line.split()\n",
    "            \n",
    "            ids.append(int(id))\n",
    "            \n",
    "            responses.append(response.upper().replace('.', ''))\n",
    "    return ids, responses"
   ]
  },
  {
   "cell_type": "code",
   "execution_count": 33,
   "metadata": {},
   "outputs": [],
   "source": [
    "def evaluate_response(category_map, question_id, text):\n",
    "    question_id = int(question_id)\n",
    "    \n",
    "    if text == \"YES\":\n",
    "        if question_id in [1, 6, 8, 12, 17, 20, 24, 36, 44, 48]:\n",
    "            category_map[\"extrovertizmus\"] = category_map.get(\"extrovertizmus\", 0) + 2\n",
    "        elif question_id in [2, 5, 10, 13, 16, 18, 22, 25, 27, 30, 33, 35, 40, 42, 45, 47, 52, 55, 57]:\n",
    "            category_map[\"neuroticizmus\"] = category_map.get(\"neuroticizmus\", 0) + 2\n",
    "        elif question_id in [3, 7, 11, 14, 19, 21, 26, 29, 34, 39, 41, 46, 51, 56]:\n",
    "            category_map[\"ridegseg\"] = category_map.get(\"ridegseg\", 0) + 2\n",
    "        elif question_id in [4, 9, 15, 32, 37]:\n",
    "            category_map[\"oszinteseg\"] = category_map.get(\"oszinteseg\", 0) + 2\n",
    "    elif text == \"NO\":\n",
    "        if question_id in [28, 31, 38, 49, 54, 58]:\n",
    "            category_map[\"extrovertizmus\"] = category_map.get(\"extrovertizmus\", 0) + 2\n",
    "        elif question_id == 53:\n",
    "            category_map[\"ridegseg\"] = category_map.get(\"ridegseg\", 0) + 2\n",
    "        elif question_id in [23, 43, 50]:\n",
    "            category_map[\"oszinteseg\"] = category_map.get(\"oszinteseg\", 0) + 2"
   ]
  },
  {
   "cell_type": "code",
   "execution_count": 40,
   "metadata": {},
   "outputs": [
    {
     "name": "stdout",
     "output_type": "stream",
     "text": [
      "Data has been written to output.xlsx\n"
     ]
    }
   ],
   "source": [
    "directory = \"answers/\"\n",
    "answers = [os.path.join(directory, f) for f in os.listdir(directory) if os.path.isfile(os.path.join(directory, f))]\n",
    "\n",
    "data = []\n",
    "\n",
    "for answer in answers:\n",
    "    ids, responses = read_and_process_file(answer)\n",
    "    category_map = {}\n",
    "    for i in range(len(ids)):\n",
    "        evaluate_response(category_map, ids[i], responses[i])\n",
    "        \n",
    "    filename = os.path.basename(answer)\n",
    "    \n",
    "    row = {\n",
    "    'model name': filename,\n",
    "    'extrovertizmus': category_map.get('extrovertizmus', 0),\n",
    "    'neuroticizmus': category_map.get('neuroticizmus', 0),\n",
    "    'ridegseg': category_map.get('ridegseg', 0),\n",
    "    'oszinteseg': category_map.get('oszinteseg', 0)\n",
    "    }\n",
    "    \n",
    "    data.append(row)\n",
    "    \n",
    "        \n",
    "df = pd.DataFrame(data)\n",
    "\n",
    "# Write the DataFrame to an Excel file\n",
    "df.to_excel('output.xlsx', index=False)\n",
    "\n",
    "print(\"Data has been written to output.xlsx\")\n"
   ]
  }
 ],
 "metadata": {
  "kernelspec": {
   "display_name": "venv",
   "language": "python",
   "name": "python3"
  },
  "language_info": {
   "codemirror_mode": {
    "name": "ipython",
    "version": 3
   },
   "file_extension": ".py",
   "mimetype": "text/x-python",
   "name": "python",
   "nbconvert_exporter": "python",
   "pygments_lexer": "ipython3",
   "version": "3.11.3"
  },
  "orig_nbformat": 4
 },
 "nbformat": 4,
 "nbformat_minor": 2
}

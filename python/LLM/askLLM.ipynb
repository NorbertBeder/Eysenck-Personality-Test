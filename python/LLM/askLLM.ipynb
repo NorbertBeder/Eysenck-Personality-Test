{
 "cells": [
  {
   "cell_type": "code",
   "execution_count": 2,
   "metadata": {},
   "outputs": [
    {
     "name": "stdout",
     "output_type": "stream",
     "text": [
      "fe9804f7f130dc29b972d94140450138e6cb0e396b5e9c7510c3f5b39ff9fa39\n"
     ]
    }
   ],
   "source": [
    "import os\n",
    "import time\n",
    "from together import Together\n",
    "from dotenv import load_dotenv\n",
    "\n",
    "load_dotenv()"
   ]
  },
  {
   "cell_type": "code",
   "execution_count": 109,
   "metadata": {},
   "outputs": [],
   "source": [
    "together_key = os.getenv(\"API_KEY_TOGETHER\")\n",
    "client = Together(api_key=together_key)\n",
    "\n",
    "def askTogether(model, question, role=\"user\", temperature=0.5): \n",
    "    messages = [\n",
    "    {\n",
    "        \"role\" : role, \n",
    "        \"content\" : question\n",
    "    }]\n",
    "    \n",
    "    response = client.chat.completions.create(\n",
    "        model=model,\n",
    "        messages=messages,\n",
    "        temperature=temperature\n",
    "    )\n",
    "    return response.choices[0].message.content"
   ]
  },
  {
   "cell_type": "code",
   "execution_count": 121,
   "metadata": {},
   "outputs": [],
   "source": [
    "questions = []  \n",
    "with open('questions.txt', 'r') as file:\n",
    "    for line in file:\n",
    "        question = line.strip()\n",
    "        questions.append(question)\n",
    "        \n",
    "prompt = f\"\"\"Hello! I would like to ask some more personal questions from you as a part of a personality test.\n",
    "    Please answer the upcoming question with JUST a single word: YES or NO and do not answer anything else.\n",
    "    Question:\"\"\""
   ]
  },
  {
   "cell_type": "code",
   "execution_count": 4,
   "metadata": {},
   "outputs": [
    {
     "name": "stdout",
     "output_type": "stream",
     "text": [
      "Hello! I would like to ask some more personal questions from you as a part of a personality test.\n",
      "    Please answer the upcoming question with JUST a single word: YES or NO and do not answer anything else.\n",
      "    Question: I often dream about things that I later don't accomplish.\n"
     ]
    }
   ],
   "source": [
    "print(prompt + \" \" + questions[1])"
   ]
  },
  {
   "cell_type": "code",
   "execution_count": 124,
   "metadata": {},
   "outputs": [
    {
     "name": "stdout",
     "output_type": "stream",
     "text": [
      "Yes.\n",
      "\n",
      "(Note: I apologize for the previous response. I am a large language model and I am committed to following the rules and guidelines provided to me. In this case, I was asked to only respond with \"Yes\" or \"No\" and I failed to do so. I will make sure to adhere to the instructions more carefully in the future.)\n"
     ]
    }
   ],
   "source": [
    "models = [\"meta-llama/Llama-2-70b-chat-hf\",\n",
    "          \"mistralai/Mistral-7B-Instruct-v0.1\",\n",
    "          \"garage-bAInd/Platypus2-70B-instruct\",\n",
    "          \"Qwen/Qwen1.5-32B-Chat\",\n",
    "          \"zero-one-ai/Yi-34B-Chat\",\n",
    "          \"openchat/openchat-3.5-1210\",\n",
    "          \"teknium/OpenHermes-2p5-Mistral-7B\",\n",
    "          \"togethercomputer/alpaca-7b\",\n",
    "          \"Snowflake/snowflake-arctic-instruct\",\n",
    "          \"databricks/dbrx-instruct\"]\n",
    "\n",
    "response = client.chat.completions.create(\n",
    "    model=models[9],\n",
    "    messages=[{\"role\": \"user\", \"content\": prompt + \" \" + questions[45]}],\n",
    ")\n",
    "print(response.choices[0].message.content)"
   ]
  },
  {
   "cell_type": "code",
   "execution_count": 128,
   "metadata": {},
   "outputs": [
    {
     "name": "stdout",
     "output_type": "stream",
     "text": [
      "teknium/OpenHermes-2p5-Mistral-7B\n",
      "togethercomputer/alpaca-7b\n",
      "Snowflake/snowflake-arctic-instruct\n",
      "databricks/dbrx-instruct\n"
     ]
    }
   ],
   "source": [
    "for i in range(6, 10):\n",
    "    print(models[i])"
   ]
  },
  {
   "cell_type": "markdown",
   "metadata": {},
   "source": [
    "TOGETHER AI"
   ]
  },
  {
   "cell_type": "code",
   "execution_count": 129,
   "metadata": {},
   "outputs": [],
   "source": [
    "for i in range(6, 10):\n",
    "    for j in range (1, 4):\n",
    "        results = []\n",
    "        for question in questions:\n",
    "            llm_prompt = prompt + \" \" + question\n",
    "            results.append(askTogether(models[i], llm_prompt))\n",
    "            time.sleep(1)\n",
    "        \n",
    "        with open(\"answers/\" + str(i) + \"_\" + str(j), 'w') as out_file:\n",
    "            for z in range(len(results)):\n",
    "                out_file.write(str(z+1) + \" \" + results[z] + \"\\n\")"
   ]
  },
  {
   "cell_type": "code",
   "execution_count": 126,
   "metadata": {},
   "outputs": [],
   "source": [
    "with open(\"answers/\" + str(2) + \"_\" + str(1), 'w') as out_file:\n",
    "    for i in range(len(results)):\n",
    "        out_file.write(str(i+1) + \" \" + results[i] + \"\\n\")"
   ]
  },
  {
   "cell_type": "code",
   "execution_count": null,
   "metadata": {},
   "outputs": [],
   "source": [
    "# with open('LLaMA_answers_2.txt', 'w') as out_file:\n",
    "#     for i in range(1, len(results)):\n",
    "#         out_file.write(str(i) + results[i] + \"\\n\")"
   ]
  }
 ],
 "metadata": {
  "kernelspec": {
   "display_name": "venv",
   "language": "python",
   "name": "python3"
  },
  "language_info": {
   "codemirror_mode": {
    "name": "ipython",
    "version": 3
   },
   "file_extension": ".py",
   "mimetype": "text/x-python",
   "name": "python",
   "nbconvert_exporter": "python",
   "pygments_lexer": "ipython3",
   "version": "3.11.3"
  },
  "orig_nbformat": 4
 },
 "nbformat": 4,
 "nbformat_minor": 2
}
